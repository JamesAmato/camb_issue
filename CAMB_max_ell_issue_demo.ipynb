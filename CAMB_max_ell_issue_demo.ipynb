{
 "cells": [
  {
   "cell_type": "code",
   "execution_count": null,
   "metadata": {},
   "outputs": [
    {
     "name": "stdout",
     "output_type": "stream",
     "text": [
      "Input lmax:8150; derived lmax: 2400\n"
     ]
    }
   ],
   "source": [
    "import camb\n",
    "\n",
    "\n",
    "lmax = 8150\n",
    "\n",
    "cosmology_args = dict( # Junk value\n",
    "    H0=63.3,\n",
    "    mnu=0.531,\n",
    "    ombh2=0.0217,\n",
    "    omch2=0.115,\n",
    "    tau=0.594\n",
    ")\n",
    "init_power_args = dict( # Junk value\n",
    "    ns=0.947\n",
    ")\n",
    "\n",
    "pars = camb.CAMBparams()\n",
    "pars.set_cosmology(**cosmology_args)\n",
    "pars.InitPower.set_params(**init_power_args)\n",
    "pars.set_for_lmax(lmax, lens_potential_accuracy=0)\n",
    "\n",
    "results = camb.get_results(pars)\n",
    "\n",
    "lmax_derived = results._lmax_setting()  # 8200\n",
    "\n",
    "print(f\"Input lmax:{lmax}; derived lmax: {lmax_derived}\")"
   ]
  },
  {
   "cell_type": "markdown",
   "metadata": {},
   "source": [
    "# Details"
   ]
  },
  {
   "cell_type": "code",
   "execution_count": 1,
   "metadata": {},
   "outputs": [],
   "source": [
    "import camb"
   ]
  },
  {
   "cell_type": "code",
   "execution_count": 2,
   "metadata": {},
   "outputs": [],
   "source": [
    "lmax = 8150"
   ]
  },
  {
   "cell_type": "markdown",
   "metadata": {},
   "source": [
    "The cosmological parameters are unimportant, they're simply values I had readily at hand."
   ]
  },
  {
   "cell_type": "code",
   "execution_count": null,
   "metadata": {},
   "outputs": [],
   "source": [
    "cosmology_args = dict( # Junk value\n",
    "    H0=63.3,\n",
    "    mnu=0.531,\n",
    "    ombh2=0.0217,\n",
    "    omch2=0.115,\n",
    "    tau=0.594\n",
    ")\n",
    "init_power_args = dict( # Junk value\n",
    "    ns=0.947\n",
    ")"
   ]
  },
  {
   "cell_type": "markdown",
   "metadata": {},
   "source": [
    "Set up CAMBparams in what I understand to be the typical manner."
   ]
  },
  {
   "cell_type": "code",
   "execution_count": null,
   "metadata": {},
   "outputs": [],
   "source": [
    "pars = camb.CAMBparams()\n",
    "pars.set_cosmology(**cosmology_args)\n",
    "pars.InitPower.set_params(**init_power_args)"
   ]
  },
  {
   "cell_type": "markdown",
   "metadata": {},
   "source": [
    "When I use `set_for_lmax()`, the default setting `lens_margin=150`. From documentation [here](https://camb.readthedocs.io/en/latest/model.html#camb.model.CAMBparams.set_for_lmax):\n",
    "\n",
    "> Set parameters to get CMB power spectra accurate to specific a `l_lmax`. Note this does not fix the actual output L range, spectra may be calculated above `l_max` (but may not be accurate there). To fix the l_max for output arrays use the optional input argument to `results.CAMBdata.get_cmb_power_spectra()` etc."
   ]
  },
  {
   "cell_type": "code",
   "execution_count": 6,
   "metadata": {},
   "outputs": [
    {
     "name": "stdout",
     "output_type": "stream",
     "text": [
      "8300\n"
     ]
    }
   ],
   "source": [
    "pars.set_for_lmax(lmax, lens_potential_accuracy=0)\n",
    "print(pars.max_l)"
   ]
  },
  {
   "cell_type": "code",
   "execution_count": null,
   "metadata": {},
   "outputs": [],
   "source": [
    "results = camb.get_results(pars)"
   ]
  },
  {
   "cell_type": "markdown",
   "metadata": {},
   "source": [
    "Get the lmax as determined by CAMB with `_lmax_setting()`. Internal to `save_cmb_power_spectrum()`, this method gets the maximum ell from some fortran function (unknown).\n",
    "\n",
    "Documentation for `save_cmb_power_spectrum()`:\n",
    "> Save CMB power to a plain text file. Output is lensed total then lensing potential and cross: L TT EE BB TE PP PT PE.\n",
    "\n",
    "Documentation for `get_cmb_power_spectrum()`:\n",
    "> Get CMB power spectra, as requested by the ‘spectra’ argument. All power spectra are self-owned numpy arrays (0..lmax, 0..3), where 0..3 index are TT, EE, BB, TE, unless raw_cl is True in which case return just . For the lens_potential the power spectrum returned is that of the deflection.\n",
    "> \n",
    "> Note that even if lmax is None, all spectra a returned to the same lmax, appropriate for lensed spectra. Use the individual functions instead if you want to the full unlensed and lensing potential power spectra to the higher lmax actually computed."
   ]
  },
  {
   "cell_type": "code",
   "execution_count": 4,
   "metadata": {},
   "outputs": [],
   "source": [
    "lmax_derived = results._lmax_setting()  # 8200"
   ]
  },
  {
   "cell_type": "code",
   "execution_count": 5,
   "metadata": {},
   "outputs": [
    {
     "name": "stdout",
     "output_type": "stream",
     "text": [
      "Input lmax: 8150; lmax_derived: 8200\n"
     ]
    }
   ],
   "source": [
    "print(f\"Input lmax: {lmax}; lmax_derived: {lmax_derived}\")"
   ]
  },
  {
   "cell_type": "markdown",
   "metadata": {},
   "source": [
    "It took some digging to figure out what's going on. I do not know how to look up the Fortran function being used.\n",
    "\n",
    "My confusion arises because I expect that the `lmax` would be what I set it to be. I read the documentation for `save_cmb_power_spectrum()` but it's minimal. I checked `get_cmb_power_spectrum()`, which states that the lmax returned is appropriate for the lensed spectra. Only later did I check `set_for_lmax()`, where I was suprised that the `lmax` I set would be different from the output.\n",
    "\n",
    "I think the simplest solution would be to update the documentation for `save_cmb_power_spectrum()` and `get_cmb_power_spectrum()`. It seems that use of `set_for_lmax()` is expected. \n",
    "\n",
    "Alternatively, further work could be done to ensure the value is used consistently."
   ]
  },
  {
   "cell_type": "markdown",
   "metadata": {},
   "source": [
    "## Original\n",
    "\n",
    "Documentation for `set_for_lmax()`:\n",
    ">        Set parameters to get CMB power spectra accurate to specific a l_lmax.\n",
    ">        Note this does not fix the actual output L range, spectra may be calculated above l_max\n",
    ">        (but may not be accurate there). To fix the l_max for output arrays use the optional input argument\n",
    ">        to :meth:`.results.CAMBdata.get_cmb_power_spectra` etc.\n",
    ">\n",
    ">        :param lmax: :math:`\\ell_{\\rm max}` you want\n",
    ">        :param max_eta_k: maximum value of :math:`k \\eta_0\\approx k\\chi_*` to use, which indirectly sets k_max.\n",
    ">                          If None, sensible value set automatically.\n",
    ">        :param lens_potential_accuracy: Set to 1 or higher if you want to get the lensing potential accurate\n",
    ">                                        (1 is only Planck-level accuracy)\n",
    ">        :param lens_margin: the :math:`\\Delta \\ell_{\\rm max}` to use to ensure lensed :math:`C_\\ell` are correct\n",
    ">                            at :math:`\\ell_{\\rm max}`\n",
    ">        :param k_eta_fac:  k_eta_fac default factor for setting max_eta_k = k_eta_fac*lmax if max_eta_k=None\n",
    ">        :param lens_k_eta_reference:  value of max_eta_k to use when lens_potential_accuracy>0; use\n",
    ">                                      k_eta_max = lens_k_eta_reference*lens_potential_accuracy\n",
    ">        :param nonlinear: use non-linear power spectrum; if None, sets nonlinear if lens_potential_accuracy>0 otherwise\n",
    ">                          preserves current setting\n",
    ">        :return: self\n",
    "\n",
    "Documentation for `save_cmb_power_spectrum()`:\n",
    ">        Save CMB power to a plain text file. Output is lensed total :math:`\\ell(\\ell+1)C_\\ell/2\\pi` then\n",
    ">        lensing potential and cross: L TT EE BB TE PP PT PE.\n",
    ">\n",
    ">        :param filename: filename to save\n",
    ">        :param lmax: lmax to save\n",
    ">        :param CMB_unit: scale results from dimensionless. Use 'muK' for :math:`\\mu K^2` units for CMB :math:`C_\\ell`\n",
    ">               and :math:`\\mu K` units for lensing cross.\n",
    "\n",
    "Documentation for `get_cmb_power_spectrum()`:\n",
    ">        Get CMB power spectra, as requested by the 'spectra' argument. All power spectra are\n",
    ">        :math:`\\ell(\\ell+1)C_\\ell/2\\pi` self-owned numpy arrays (0..lmax, 0..3), where 0..3 index\n",
    ">        are TT, EE, BB, TE, unless raw_cl is True in which case return just :math:`C_\\ell`.\n",
    ">        For the lens_potential the power spectrum returned is that of the deflection.\n",
    ">\n",
    ">        Note that even if lmax is None, all spectra a returned to the same lmax, appropriate\n",
    ">        for lensed spectra. Use the individual functions instead if you want to the full unlensed\n",
    ">        and lensing potential power spectra to the higher lmax actually computed.\n",
    ">\n",
    ">        :param params: optional :class:`~.model.CAMBparams` instance with parameters to use. If None, must have\n",
    ">          previously set parameters and called `calc_power_spectra` (e.g. if you got this instance\n",
    ">          using :func:`.camb.get_results`),\n",
    ">        :param lmax: maximum L\n",
    ">        :param spectra: list of names of spectra to get\n",
    ">        :param CMB_unit: scale results from dimensionless. Use 'muK' for :math:`\\mu K^2` units for CMB :math:`C_\\ell`\n",
    ">          and :math:`\\mu K` units for lensing cross.\n",
    ">        :param raw_cl: return :math:`C_\\ell` rather than :math:`\\ell(\\ell+1)C_\\ell/2\\pi`\n",
    ">        :return: dictionary of power spectrum arrays, indexed by names of requested spectra"
   ]
  },
  {
   "cell_type": "markdown",
   "metadata": {},
   "source": [
    "## Suggestion\n",
    "\n",
    "Documentation for `save_cmb_power_spectrum()`:\n",
    ">        Save CMB power to a plain text file. Output is lensed total :math:`\\ell(\\ell+1)C_\\ell/2\\pi` then\n",
    ">        lensing potential and cross: L TT EE BB TE PP PT PE. If lmax is None, the default lmax may differ from what\n",
    ">         was set by :meth:`.results.CAMBparams.set_for_lmax`\n",
    ">\n",
    ">        :param filename: filename to save\n",
    ">        :param lmax: lmax to save\n",
    ">        :param CMB_unit: scale results from dimensionless. Use 'muK' for :math:`\\mu K^2` units for CMB :math:`C_\\ell`\n",
    ">               and :math:`\\mu K` units for lensing cross.\n",
    "\n",
    "Documentation for `get_cmb_power_spectrum()`:\n",
    ">        Get CMB power spectra, as requested by the 'spectra' argument. All power spectra are\n",
    ">        :math:`\\ell(\\ell+1)C_\\ell/2\\pi` self-owned numpy arrays (0..lmax, 0..3), where 0..3 index\n",
    ">        are TT, EE, BB, TE, unless raw_cl is True in which case return just :math:`C_\\ell`.\n",
    ">        For the lens_potential the power spectrum returned is that of the deflection.\n",
    ">\n",
    ">        Note that even if lmax is None, all spectra a returned to the same lmax, appropriate\n",
    ">        for lensed spectra (which may differ from an lmax specified in by :meth:`.results.CAMBparams.set_for_lmax`). \n",
    ">        Use the individual functions instead if you want to get the full unlensed\n",
    ">        and lensing potential power spectra to the higher lmax actually computed.\n",
    ">\n",
    ">        :param params: optional :class:`~.model.CAMBparams` instance with parameters to use. If None, must have\n",
    ">          previously set parameters and called `calc_power_spectra` (e.g. if you got this instance\n",
    ">          using :func:`.camb.get_results`),\n",
    ">        :param lmax: maximum L\n",
    ">        :param spectra: list of names of spectra to get\n",
    ">        :param CMB_unit: scale results from dimensionless. Use 'muK' for :math:`\\mu K^2` units for CMB :math:`C_\\ell`\n",
    ">          and :math:`\\mu K` units for lensing cross.\n",
    ">        :param raw_cl: return :math:`C_\\ell` rather than :math:`\\ell(\\ell+1)C_\\ell/2\\pi`\n",
    ">        :return: dictionary of power spectrum arrays, indexed by names of requested spectra"
   ]
  }
 ],
 "metadata": {
  "kernelspec": {
   "display_name": "camb_issue",
   "language": "python",
   "name": "python3"
  },
  "language_info": {
   "codemirror_mode": {
    "name": "ipython",
    "version": 3
   },
   "file_extension": ".py",
   "mimetype": "text/x-python",
   "name": "python",
   "nbconvert_exporter": "python",
   "pygments_lexer": "ipython3",
   "version": "3.9.21"
  }
 },
 "nbformat": 4,
 "nbformat_minor": 2
}
